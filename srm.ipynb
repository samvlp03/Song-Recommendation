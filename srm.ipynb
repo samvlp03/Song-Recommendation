{
 "cells": [
  {
   "cell_type": "code",
   "execution_count": 1,
   "metadata": {},
   "outputs": [],
   "source": [
    "import os\n",
    "import pandas as pd \n",
    "import numpy as np \n",
    "from sklearn.model_selection import train_test_split\n",
    "from sklearn.metrics.pairwise import cosine_similarity\n",
    "from sklearn.metrics import pairwise_distances, mean_squared_error, classification_report\n",
    "import seaborn as sns \n",
    "import matplotlib.pyplot as plt \n",
    "import plotly.express as px\n",
    "from sklearn.preprocessing import MinMaxScaler\n"
   ]
  },
  {
   "cell_type": "code",
   "execution_count": 2,
   "metadata": {},
   "outputs": [],
   "source": [
    "# Load your CSV file (replace 'your_dataset.csv' with the actual file name)\n",
    "df = pd.read_csv('songs.csv')\n",
    "\n",
    "# Scale 'Views' values to be between 0 and 1\n",
    "scaler = MinMaxScaler()\n",
    "df['Views_scaled'] = scaler.fit_transform(df[['Views']])\n",
    "\n",
    "\n",
    "# Create numerical indices for artists and tracks\n",
    "df['Artist_ID'] = pd.Categorical(df['Artist']).codes\n",
    "df['Track_ID'] = pd.Categorical(df['Track']).codes\n",
    "\n",
    "# Use 'Views_scaled' for building the user-song matrix\n",
    "user_song_matrix = df.pivot_table(index='Artist_ID', columns='Track_ID', values='Views_scaled', fill_value=0)\n",
    "\n",
    "\n",
    "# Handle NaN values in the user-song matrix\n",
    "user_song_matrix = user_song_matrix.fillna(0)\n"
   ]
  },
  {
   "cell_type": "code",
   "execution_count": 3,
   "metadata": {},
   "outputs": [],
   "source": [
    "# Split the data into training and testing sets\n",
    "train_data, test_data = train_test_split(user_song_matrix, test_size=0.2, random_state=42)\n",
    "\n",
    "# Calculate cosine similarity between users\n",
    "user_similarity = cosine_similarity(train_data)"
   ]
  },
  {
   "cell_type": "code",
   "execution_count": 4,
   "metadata": {},
   "outputs": [],
   "source": [
    "# Function for prediction\n",
    "def predict(ratings, similarity, epsilon=1e-9):\n",
    "    mean_user_rating = ratings.mean(axis=1)\n",
    "    ratings_diff = (ratings - mean_user_rating[:, np.newaxis])\n",
    "    pred = mean_user_rating[:, np.newaxis] + similarity.dot(ratings_diff) / (np.abs(similarity).sum(axis=1)[:, np.newaxis] + epsilon)\n",
    "    return pred"
   ]
  },
  {
   "cell_type": "code",
   "execution_count": 5,
   "metadata": {},
   "outputs": [
    {
     "name": "stdout",
     "output_type": "stream",
     "text": [
      "Mean Squared Error: 0.001319220136204168\n",
      "Root Mean Squared Error: 0.036321070141230254\n"
     ]
    }
   ],
   "source": [
    "# Making predictions and evaluating using Mean Squared Error (MSE) Method\n",
    "user_prediction = predict(train_data.values, user_similarity)\n",
    "common_indices = np.where(test_data.values > 0)\n",
    "user_prediction = np.nan_to_num(user_prediction)\n",
    "\n",
    "mse = mean_squared_error(test_data.values[common_indices], user_prediction[common_indices])\n",
    "rmse = np.sqrt(mse)\n",
    "print(f'Mean Squared Error: {mse}')\n",
    "print(f'Root Mean Squared Error: {rmse}')"
   ]
  },
  {
   "cell_type": "code",
   "execution_count": 6,
   "metadata": {},
   "outputs": [],
   "source": [
    "# Recommend tracks for a given artist\n",
    "def recommend_tracks(artist_id, user_prediction, df, n=5):\n",
    "    sorted_indices = np.argsort(user_prediction[artist_id])[::-1]\n",
    "    recommended_tracks = []\n",
    "    for i in range(n):\n",
    "        track_name = df['Track'].iloc[sorted_indices[i]]\n",
    "        recommended_tracks.append(track_name)\n",
    "    return recommended_tracks"
   ]
  },
  {
   "cell_type": "code",
   "execution_count": 7,
   "metadata": {},
   "outputs": [
    {
     "name": "stdout",
     "output_type": "stream",
     "text": [
      "The numerical ID for Nirvana is: 1383\n",
      "Recommended tracks for artist | Nirvana | (ID 1383): \n",
      "1. Raja Ji Khoon Kaida\n",
      "2. Bag End\n",
      "3. Is This Love\n",
      "4. Soy Yo - Sing 2 Mix\n",
      "5. Nee Tholaindhaayo\n"
     ]
    }
   ],
   "source": [
    "# Function to get artist ID by name\n",
    "def get_artist_id_by_name(artist_name, df):\n",
    "    artist_id = df[df['Artist'] == artist_name]['Artist_ID'].iloc[0] if artist_name in df['Artist'].values else None\n",
    "    return artist_id\n",
    "\n",
    "# Example usage:\n",
    "user_input_artist_name = input(\"Enter the name of artist: \")\n",
    "artist_id = get_artist_id_by_name(user_input_artist_name, df)\n",
    "\n",
    "if artist_id is not None:\n",
    "    print(f\"The numerical ID for {user_input_artist_name} is: {artist_id}\")\n",
    "    # Now you can use artist_id with iloc or other operations\n",
    "    artist_name_from_id = df[df['Artist_ID'] == artist_id]['Artist'].iloc[0]\n",
    "    \n",
    "    # Recommend tracks for the specified artist\n",
    "    recommended_tracks = recommend_tracks(artist_id, user_prediction, df)\n",
    "    print(f'Recommended tracks for artist | {artist_name_from_id} | (ID {artist_id}): ')\n",
    "    for i, track_name in enumerate(recommended_tracks, 1):\n",
    "        print(f'{i}. {track_name}')\n",
    "\n",
    "else:\n",
    "    print(f\"Artist {user_input_artist_name} not found in the dataset.\")"
   ]
  }
 ],
 "metadata": {
  "kernelspec": {
   "display_name": "Python 3",
   "language": "python",
   "name": "python3"
  },
  "language_info": {
   "codemirror_mode": {
    "name": "ipython",
    "version": 3
   },
   "file_extension": ".py",
   "mimetype": "text/x-python",
   "name": "python",
   "nbconvert_exporter": "python",
   "pygments_lexer": "ipython3",
   "version": "3.11.5"
  }
 },
 "nbformat": 4,
 "nbformat_minor": 2
}
